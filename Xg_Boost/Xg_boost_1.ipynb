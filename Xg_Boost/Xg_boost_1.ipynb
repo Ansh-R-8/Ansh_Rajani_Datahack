{
 "cells": [
  {
   "cell_type": "code",
   "execution_count": 4,
   "id": "512625fa-5399-42da-977f-d4d65e7bdb26",
   "metadata": {},
   "outputs": [
    {
     "name": "stdout",
     "output_type": "stream",
     "text": [
      "ROC AUC Score: 0.8507081915014071\n"
     ]
    }
   ],
   "source": [
    "import pandas as pd\n",
    "import numpy as np\n",
    "from sklearn.pipeline import Pipeline\n",
    "from sklearn.compose import ColumnTransformer\n",
    "from sklearn.preprocessing import StandardScaler, OneHotEncoder\n",
    "from sklearn.impute import SimpleImputer\n",
    "from sklearn.multioutput import MultiOutputClassifier\n",
    "from xgboost import XGBClassifier\n",
    "from sklearn.model_selection import train_test_split, GridSearchCV\n",
    "from sklearn.metrics import roc_auc_score\n",
    "\n",
    "# Load the datasets\n",
    "X = pd.read_csv('training_set_features.csv')\n",
    "y = pd.read_csv('training_set_labels.csv')\n",
    "z = pd.read_csv('test_set_features.csv')\n",
    "\n",
    "# Extract and drop respondent_ids\n",
    "respondent_ids = X['respondent_id']\n",
    "X.drop('respondent_id', axis=1, inplace=True)\n",
    "y.drop('respondent_id', axis=1, inplace=True)\n",
    "\n",
    "# Identify numerical and categorical columns\n",
    "cat_cols = [col for col in X.columns if X[col].dtype == 'O']\n",
    "num_cols = [col for col in X.columns if col not in cat_cols]\n",
    "\n",
    "# Define imputers and transformers\n",
    "numerical_transformer = Pipeline(steps=[\n",
    "    ('imputer', SimpleImputer(strategy='median')),\n",
    "    ('scaler', StandardScaler())\n",
    "])\n",
    "\n",
    "categorical_transformer = Pipeline(steps=[\n",
    "    ('imputer', SimpleImputer(strategy='most_frequent')),\n",
    "    ('onehot', OneHotEncoder(handle_unknown='ignore'))\n",
    "])\n",
    "\n",
    "# Define column transformer\n",
    "preprocessor = ColumnTransformer(\n",
    "    transformers=[\n",
    "        ('num', numerical_transformer, num_cols),\n",
    "        ('cat', categorical_transformer, cat_cols)\n",
    "    ])\n",
    "\n",
    "# Initialize XGBoost classifier within a MultiOutputClassifier\n",
    "xgb_clf = MultiOutputClassifier(XGBClassifier(use_label_encoder=False, eval_metric='logloss'))\n",
    "\n",
    "# Create pipeline\n",
    "pipeline = Pipeline(steps=[('preprocessor', preprocessor),\n",
    "                           ('classifier', xgb_clf)])\n",
    "\n",
    "# Define parameter grid for GridSearch\n",
    "param_grid = {\n",
    "    'classifier__estimator__n_estimators': [100, 200],\n",
    "    'classifier__estimator__learning_rate': [0.01, 0.1],\n",
    "    'classifier__estimator__max_depth': [3, 5],\n",
    "    'classifier__estimator__scale_pos_weight': [1, 3, 5]\n",
    "}\n",
    "\n",
    "# Split data into training and test sets\n",
    "X_train, X_test, y_train, y_test = train_test_split(X, y, test_size=0.2, random_state=42)\n",
    "\n",
    "# Initialize GridSearchCV\n",
    "grid_search = GridSearchCV(estimator=pipeline, param_grid=param_grid, cv=5, scoring='roc_auc', n_jobs=-1)\n",
    "\n",
    "# Fit model\n",
    "grid_search.fit(X_train, y_train)\n",
    "\n",
    "# Best model\n",
    "best_model = grid_search.best_estimator_\n",
    "\n",
    "# Predict probabilities on hold-out test set\n",
    "y_pred_prob = best_model.predict_proba(X_test)\n",
    "\n",
    "# Evaluate the model using ROC AUC score on the hold-out test set\n",
    "roc_auc = roc_auc_score(y_test, np.array([prob[:, 1] for prob in y_pred_prob]).T)\n",
    "print(f\"ROC AUC Score: {roc_auc}\")\n",
    "\n",
    "# Extract respondent IDs from test set features\n",
    "respondent_ids_test = z['respondent_id']\n",
    "\n",
    "# Drop respondent_ids from test set features\n",
    "z.drop('respondent_id', axis=1, inplace=True)\n",
    "\n",
    "# Predict probabilities using the best model on the test set features\n",
    "y_test_pred_prob = best_model.predict_proba(z)\n",
    "\n",
    "# Prepare submission with probabilities rounded to one decimal place\n",
    "submission = pd.DataFrame({\n",
    "    'respondent_id': respondent_ids_test,\n",
    "    'xyz_vaccine': np.round(y_test_pred_prob[0][:, 1], 1),  # Probabilities for xyz_vaccine\n",
    "    'seasonal_vaccine': np.round(y_test_pred_prob[1][:, 1], 1)  # Probabilities for seasonal_vaccine\n",
    "})\n",
    "\n",
    "# Save to CSV\n",
    "submission.to_csv('submission_Xgboost_fnl.csv', index=False)\n"
   ]
  },
  {
   "cell_type": "code",
   "execution_count": 7,
   "id": "93ce181d-b453-43ba-ac83-ca7d9c6cd1fc",
   "metadata": {},
   "outputs": [
    {
     "name": "stdout",
     "output_type": "stream",
     "text": [
      "Best parameters found by GridSearchCV:\n",
      "{'classifier__estimator__learning_rate': 0.1, 'classifier__estimator__max_depth': 3, 'classifier__estimator__n_estimators': 200, 'classifier__estimator__scale_pos_weight': 1}\n"
     ]
    }
   ],
   "source": [
    "print(\"Best parameters found by GridSearchCV:\")\n",
    "print(grid_search.best_params_)"
   ]
  },
  {
   "cell_type": "code",
   "execution_count": 6,
   "id": "4e67b5d7-7f1b-4019-9b1b-48924d90cd9e",
   "metadata": {},
   "outputs": [
    {
     "data": {
      "text/plain": [
       "[array([[0.9477094 , 0.05229063],\n",
       "        [0.9757871 , 0.02421291],\n",
       "        [0.5236005 , 0.47639948],\n",
       "        ...,\n",
       "        [0.89288515, 0.10711483],\n",
       "        [0.95115113, 0.04884888],\n",
       "        [0.4975807 , 0.5024193 ]], dtype=float32),\n",
       " array([[0.73893166, 0.26106837],\n",
       "        [0.9674314 , 0.03256859],\n",
       "        [0.2898041 , 0.7101959 ],\n",
       "        ...,\n",
       "        [0.8198638 , 0.1801362 ],\n",
       "        [0.6463791 , 0.35362086],\n",
       "        [0.38615024, 0.61384976]], dtype=float32)]"
      ]
     },
     "execution_count": 6,
     "metadata": {},
     "output_type": "execute_result"
    }
   ],
   "source": [
    "y_test_pred_prob"
   ]
  }
 ],
 "metadata": {
  "kernelspec": {
   "display_name": "Python 3 (ipykernel)",
   "language": "python",
   "name": "python3"
  },
  "language_info": {
   "codemirror_mode": {
    "name": "ipython",
    "version": 3
   },
   "file_extension": ".py",
   "mimetype": "text/x-python",
   "name": "python",
   "nbconvert_exporter": "python",
   "pygments_lexer": "ipython3",
   "version": "3.11.5"
  }
 },
 "nbformat": 4,
 "nbformat_minor": 5
}
